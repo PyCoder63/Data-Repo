{
 "cells": [
  {
   "cell_type": "markdown",
   "id": "processed-poultry",
   "metadata": {},
   "source": [
    "Problem 1 - Variable and Data Types\n",
    "Q: Assign your name to the variable"
   ]
  },
  {
   "cell_type": "code",
   "execution_count": null,
   "id": "imposed-roman",
   "metadata": {},
   "outputs": [],
   "source": [
    "name = 'Muftahu Abdulrahman'"
   ]
  },
  {
   "cell_type": "code",
   "execution_count": null,
   "id": "inner-event",
   "metadata": {},
   "outputs": [],
   "source": [
    "age = 27"
   ]
  },
  {
   "cell_type": "code",
   "execution_count": null,
   "id": "changing-detroit",
   "metadata": {},
   "outputs": [],
   "source": [
    "has_android_phone = False"
   ]
  },
  {
   "cell_type": "code",
   "execution_count": null,
   "id": "passing-egypt",
   "metadata": {},
   "outputs": [],
   "source": [
    "name, age, has_android_phone"
   ]
  },
  {
   "cell_type": "code",
   "execution_count": null,
   "id": "single-grade",
   "metadata": {},
   "outputs": [],
   "source": [
    "person = {'name': name,\n",
    "         'age': age,\n",
    "         'has_android_phone': has_android_phone}"
   ]
  },
  {
   "cell_type": "code",
   "execution_count": null,
   "id": "vietnamese-rough",
   "metadata": {},
   "outputs": [],
   "source": [
    "person"
   ]
  },
  {
   "cell_type": "code",
   "execution_count": null,
   "id": "heavy-credit",
   "metadata": {},
   "outputs": [],
   "source": []
  },
  {
   "cell_type": "code",
   "execution_count": null,
   "id": "arbitrary-console",
   "metadata": {},
   "outputs": [],
   "source": [
    "print(\"{} has aged {} and has own an {}\".format(person[\"name\"], person[\"age\"], \n",
    "                                                \"Andriod Phone\" if person[\"has_android_phone\"] else \"Iphone\"))"
   ]
  },
  {
   "cell_type": "code",
   "execution_count": null,
   "id": "working-newport",
   "metadata": {},
   "outputs": [],
   "source": [
    "for key in person.keys():\n",
    "    print(\"The key {} has the value {} of the type {}\".format(key, person[key], type(person[key])))"
   ]
  },
  {
   "cell_type": "markdown",
   "id": "musical-management",
   "metadata": {},
   "source": [
    "Problem 2 - Working with Lists"
   ]
  },
  {
   "cell_type": "code",
   "execution_count": null,
   "id": "scientific-dependence",
   "metadata": {},
   "outputs": [],
   "source": [
    "my_list = ['magenta', 5, True]"
   ]
  },
  {
   "cell_type": "code",
   "execution_count": null,
   "id": "ranking-discharge",
   "metadata": {},
   "outputs": [],
   "source": [
    "my_list"
   ]
  },
  {
   "cell_type": "code",
   "execution_count": null,
   "id": "accomplished-interstate",
   "metadata": {},
   "outputs": [],
   "source": [
    "print(\"My favourite color is {}\". format(my_list[0]))"
   ]
  },
  {
   "cell_type": "code",
   "execution_count": null,
   "id": "level-quarterly",
   "metadata": {},
   "outputs": [],
   "source": [
    "print(\"I have {} number of pets\". format(my_list[1]))"
   ]
  },
  {
   "cell_type": "code",
   "execution_count": null,
   "id": "israeli-bandwidth",
   "metadata": {},
   "outputs": [],
   "source": [
    "if my_list[2]:\n",
    "    print(\"I have previous programming experience\")\n",
    "else:\n",
    "    print(\"I don't have previous programming experience\")"
   ]
  },
  {
   "cell_type": "code",
   "execution_count": null,
   "id": "detailed-tiger",
   "metadata": {},
   "outputs": [],
   "source": [
    "my_list.append(10)"
   ]
  },
  {
   "cell_type": "code",
   "execution_count": null,
   "id": "proved-geometry",
   "metadata": {},
   "outputs": [],
   "source": [
    "my_list"
   ]
  },
  {
   "cell_type": "code",
   "execution_count": null,
   "id": "curious-think",
   "metadata": {},
   "outputs": [],
   "source": [
    "my_list.pop(0)"
   ]
  },
  {
   "cell_type": "code",
   "execution_count": null,
   "id": "adequate-pound",
   "metadata": {},
   "outputs": [],
   "source": [
    "my_list"
   ]
  },
  {
   "cell_type": "code",
   "execution_count": null,
   "id": "adopted-consultancy",
   "metadata": {},
   "outputs": [],
   "source": [
    "print(\"The list has {} elements\".format(len(my_list)))"
   ]
  },
  {
   "cell_type": "markdown",
   "id": "periodic-newport",
   "metadata": {},
   "source": [
    "Problem 3 - Conditional and Loop Statements"
   ]
  },
  {
   "cell_type": "code",
   "execution_count": null,
   "id": "measured-lucas",
   "metadata": {},
   "outputs": [],
   "source": [
    "num = 8\n",
    "sum_of_numbers = 0\n",
    "while  num <= 534:\n",
    "    if num % 7 == 0:\n",
    "        sum_of_numbers +=num\n",
    "    num +=1\n",
    "return sum_of_numbers\n",
    "\n",
    "    \n",
    "    "
   ]
  },
  {
   "cell_type": "code",
   "execution_count": null,
   "id": "proof-immunology",
   "metadata": {},
   "outputs": [],
   "source": [
    "print(\"The sum of numbers divisable by 7 is {}\".format(sum_of_numbers))"
   ]
  },
  {
   "cell_type": "code",
   "execution_count": null,
   "id": "arbitrary-boutique",
   "metadata": {},
   "outputs": [],
   "source": [
    "import math"
   ]
  },
  {
   "cell_type": "markdown",
   "id": "through-feature",
   "metadata": {},
   "source": [
    "Problem 4 - Flying to Bahamas"
   ]
  },
  {
   "cell_type": "code",
   "execution_count": null,
   "id": "square-bouquet",
   "metadata": {},
   "outputs": [],
   "source": [
    "cost_of_flying_plane = 5000\n"
   ]
  },
  {
   "cell_type": "code",
   "execution_count": null,
   "id": "threatened-values",
   "metadata": {},
   "outputs": [],
   "source": [
    "number_of_passengers = 29"
   ]
  },
  {
   "cell_type": "code",
   "execution_count": null,
   "id": "otherwise-wrestling",
   "metadata": {},
   "outputs": [],
   "source": [
    "cost_of_ticket = 200"
   ]
  },
  {
   "cell_type": "code",
   "execution_count": null,
   "id": "authorized-governor",
   "metadata": {},
   "outputs": [],
   "source": [
    "amount_made_on_trip = cost_of_ticket * number_of_passengers"
   ]
  },
  {
   "cell_type": "code",
   "execution_count": null,
   "id": "celtic-associate",
   "metadata": {},
   "outputs": [],
   "source": [
    "amount_made_on_trip"
   ]
  },
  {
   "cell_type": "code",
   "execution_count": null,
   "id": "signed-coordinate",
   "metadata": {},
   "outputs": [],
   "source": [
    "profit = amount_made_on_trip - cost_of_flying_plane"
   ]
  },
  {
   "cell_type": "code",
   "execution_count": null,
   "id": "aging-superintendent",
   "metadata": {},
   "outputs": [],
   "source": [
    "profit"
   ]
  },
  {
   "cell_type": "code",
   "execution_count": null,
   "id": "tracked-rhythm",
   "metadata": {},
   "outputs": [],
   "source": [
    "print(\"The profit made by the company by flying a plane is ${}\".format(profit))"
   ]
  },
  {
   "cell_type": "code",
   "execution_count": null,
   "id": "pursuant-nelson",
   "metadata": {},
   "outputs": [],
   "source": [
    "number_of_returnee = 12"
   ]
  },
  {
   "cell_type": "code",
   "execution_count": null,
   "id": "imported-cameroon",
   "metadata": {},
   "outputs": [],
   "source": [
    "return_profit = (number_of_returnee * cost_of_ticket) - cost_of_flying_plane"
   ]
  },
  {
   "cell_type": "code",
   "execution_count": null,
   "id": "hidden-perry",
   "metadata": {},
   "outputs": [],
   "source": [
    "overall_profit = profit + return_profit"
   ]
  },
  {
   "cell_type": "code",
   "execution_count": null,
   "id": "popular-payroll",
   "metadata": {},
   "outputs": [],
   "source": [
    "if overall_profit > 2 * cost_of_flying_plane:\n",
    "    print(\"The company make an overall profit of {} dollars\". format(overall_profit))\n",
    "else:\n",
    "    print(\"The company makes an overall loss of {} dollars\". format(overall_profit))"
   ]
  },
  {
   "cell_type": "code",
   "execution_count": null,
   "id": "gentle-arrival",
   "metadata": {},
   "outputs": [],
   "source": []
  }
 ],
 "metadata": {
  "kernelspec": {
   "display_name": "Python 3",
   "language": "python",
   "name": "python3"
  },
  "language_info": {
   "codemirror_mode": {
    "name": "ipython",
    "version": 3
   },
   "file_extension": ".py",
   "mimetype": "text/x-python",
   "name": "python",
   "nbconvert_exporter": "python",
   "pygments_lexer": "ipython3",
   "version": "3.7.5"
  }
 },
 "nbformat": 4,
 "nbformat_minor": 5
}
