{
 "cells": [
  {
   "cell_type": "markdown",
   "id": "20a7a7a1",
   "metadata": {},
   "source": [
    "## NAME: MUFTAHU ABDULRAHMAN (ACE22110008)\n",
    "## COURSE: PROGRAMMING FOR AI (ATI803)\n",
    "## ASSIGNMENT TITLE: WORKING WITH NUMPY\n",
    "### To be submitted on 16/05/2022"
   ]
  },
  {
   "cell_type": "markdown",
   "id": "d47018dc",
   "metadata": {},
   "source": [
    "### Question 1a\n",
    "### Write a python code that create a 4X3 integer array from a range between 10 to 70 such that the difference between each element is 5."
   ]
  },
  {
   "cell_type": "code",
   "execution_count": 1,
   "id": "ca173f07",
   "metadata": {},
   "outputs": [],
   "source": [
    "# Importing Numpy lirary\n",
    "import numpy as np"
   ]
  },
  {
   "cell_type": "code",
   "execution_count": 4,
   "id": "0f262330",
   "metadata": {},
   "outputs": [],
   "source": [
    "# Creating thr range of array and reshaping to get the desire dimension\n",
    "range_array = np.array(range(10,70,5)).reshape(4,3)"
   ]
  },
  {
   "cell_type": "code",
   "execution_count": 5,
   "id": "c0e11034",
   "metadata": {},
   "outputs": [
    {
     "data": {
      "text/plain": [
       "array([[10, 15, 20],\n",
       "       [25, 30, 35],\n",
       "       [40, 45, 50],\n",
       "       [55, 60, 65]])"
      ]
     },
     "execution_count": 5,
     "metadata": {},
     "output_type": "execute_result"
    }
   ],
   "source": [
    "# Displaying the array\n",
    "range_array"
   ]
  },
  {
   "cell_type": "code",
   "execution_count": null,
   "id": "21c86873",
   "metadata": {},
   "outputs": [],
   "source": []
  },
  {
   "cell_type": "markdown",
   "id": "8500b26c",
   "metadata": {},
   "source": [
    "### Question 1b\n",
    "### b)\tGiven an array sampleArray below: sampleArray = numpy.array([[3 ,6, 9, 12], [15 ,18, 21, 24], [27 ,30, 33, 36], [39 ,42, 45, 48], [51 ,54, 57, 60]]).\n",
    "### Write a python code that returns an array of odd rows and even columns. The output should look like:[[ 6 12][30 36][54 60]]\n"
   ]
  },
  {
   "cell_type": "code",
   "execution_count": 28,
   "id": "2004366a",
   "metadata": {},
   "outputs": [
    {
     "name": "stdout",
     "output_type": "stream",
     "text": [
      "The output of odd Rows and Even columns are\n",
      "[[ 6 12]\n",
      " [30 36]\n",
      " [54 60]]\n"
     ]
    }
   ],
   "source": [
    "sampleArray = np.array([[3 ,6, 9, 12], [15 ,18, 21, 24], [27 ,30, 33, 36], [39 ,42, 45, 48], [51 ,54, 57, 60]])\n",
    "# Double slicing on rows and columns\n",
    "OddEvenArray = sampleArray[::2, 1::2]\n",
    "\n",
    "# Displaying the results\n",
    "print(\"The output of odd Rows and Even columns are\")\n",
    "print(OddEvenArray)"
   ]
  },
  {
   "cell_type": "code",
   "execution_count": null,
   "id": "b8771d72",
   "metadata": {},
   "outputs": [],
   "source": []
  },
  {
   "cell_type": "markdown",
   "id": "11a4b5ef",
   "metadata": {},
   "source": [
    "### Question 2a\n",
    "### 2.\ta) Given the following arrays: \n",
    "### arrayOne = numpy.array([[5, 6, 9], [21 ,18, 27]])\n",
    "### arrayTwo = numpy.array([[15 ,33, 24], [4 ,7, 1]]) \n",
    "\n",
    "### i.\tCreate another array called result by adding arrayOne and arrayTwo. \n",
    "### ii.\tModify the result array by calculating the square of each element:\n"
   ]
  },
  {
   "cell_type": "code",
   "execution_count": 11,
   "id": "60a0fcae",
   "metadata": {},
   "outputs": [],
   "source": [
    "arrayOne = np.array([[5, 6, 9], [21 ,18, 27]])\n",
    "arrayTwo = np.array([[15 ,33, 24], [4 ,7, 1]])\n",
    "\n",
    "# Adding the two Arrays\n",
    "result = np.add(arrayOne,arrayTwo)\n",
    "\n",
    "# Squaring the result\n",
    "modify_result = np.square(result)"
   ]
  },
  {
   "cell_type": "code",
   "execution_count": 12,
   "id": "cc023a8d",
   "metadata": {},
   "outputs": [
    {
     "name": "stdout",
     "output_type": "stream",
     "text": [
      "The result of adding the two arrays is\n",
      "[[20 39 33]\n",
      " [25 25 28]] \n",
      "\n",
      "The square of the result is\n",
      "[[ 400 1521 1089]\n",
      " [ 625  625  784]]\n"
     ]
    }
   ],
   "source": [
    "print(\"The result of adding the two arrays is\")\n",
    "print(result, \"\\n\")\n",
    "\n",
    "print(\"The square of the result is\")\n",
    "print(modify_result)"
   ]
  },
  {
   "cell_type": "code",
   "execution_count": null,
   "id": "a72917c7",
   "metadata": {},
   "outputs": [],
   "source": []
  },
  {
   "cell_type": "markdown",
   "id": "c132de0e",
   "metadata": {},
   "source": [
    "### Question 2b\n",
    "### b) Given the array sampleArray below:\n",
    "### sampleArray = numpy.array([[34,43,73],[82,22,12],[53,94,66]]) \n",
    "### Write a python code that deletes the second column from the given sampleArray and insert the following new column in its place. newColumn = numpy.array([[10,10,10]])"
   ]
  },
  {
   "cell_type": "code",
   "execution_count": 20,
   "id": "cb5ee66b",
   "metadata": {},
   "outputs": [
    {
     "name": "stdout",
     "output_type": "stream",
     "text": [
      "sampleArray after deleting & replacing the second column\n",
      "[[34 10 73]\n",
      " [82 10 12]\n",
      " [53 10 66]]\n"
     ]
    }
   ],
   "source": [
    "# Sample array\n",
    "sampleArray = np.array([[34,43,73],[82,22,12],[53,94,66]])\n",
    "\n",
    "# We delete the second column by direct replacement with desire array.\n",
    "newColumn = np.array([[10,10,10]])\n",
    "\n",
    "# Replacing the second column with newColumn array\n",
    "sampleArray[:, 1] = newColumn\n",
    "\n",
    "print(\"sampleArray after deleting & replacing the second column\")\n",
    "print(sampleArray)"
   ]
  },
  {
   "cell_type": "code",
   "execution_count": null,
   "id": "3d689ac1",
   "metadata": {},
   "outputs": [],
   "source": []
  },
  {
   "cell_type": "code",
   "execution_count": null,
   "id": "bc205439",
   "metadata": {},
   "outputs": [],
   "source": []
  }
 ],
 "metadata": {
  "celltoolbar": "Raw Cell Format",
  "kernelspec": {
   "display_name": "Python 3 (ipykernel)",
   "language": "python",
   "name": "python3"
  },
  "language_info": {
   "codemirror_mode": {
    "name": "ipython",
    "version": 3
   },
   "file_extension": ".py",
   "mimetype": "text/x-python",
   "name": "python",
   "nbconvert_exporter": "python",
   "pygments_lexer": "ipython3",
   "version": "3.10.3"
  }
 },
 "nbformat": 4,
 "nbformat_minor": 5
}
