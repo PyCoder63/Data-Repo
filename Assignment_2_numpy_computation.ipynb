{
 "cells": [
  {
   "cell_type": "markdown",
   "id": "listed-phase",
   "metadata": {},
   "source": [
    "# SOME NUMPY COMPUTATIONAL FUCTIONS\n",
    "\n",
    "### 5 Numpy amazing functions you will like to know\n",
    "\n",
    "**Numpy is a numerical computational python library used for data analysis having amazing functions to play around in order to achieve a desire output. Below are five choosen functions you will need to know about\n",
    "\n",
    "1. Trigeometric Functions\n",
    "2. Rounding Functions\n",
    "3. Stacking Functions\n",
    "4. Statistical Functions\n",
    "5. Linear algebra and Matrix Library\n"
   ]
  },
  {
   "cell_type": "markdown",
   "id": "vocational-leadership",
   "metadata": {},
   "source": [
    "**pi function can be call using numpy.pi or can be import from numpy module as seen below  "
   ]
  },
  {
   "cell_type": "code",
   "execution_count": 1,
   "id": "sublime-defeat",
   "metadata": {},
   "outputs": [],
   "source": [
    "import numpy as np\n",
    "from numpy import pi"
   ]
  },
  {
   "cell_type": "markdown",
   "id": "impressive-secondary",
   "metadata": {},
   "source": [
    "Function 1. Trigeometric Function is a scientific function used to determine value for angle and viseversa. we have the sin(), cos(), tan(), arcsin() cot() functions. pi/180 is use to convert degrees into radians"
   ]
  },
  {
   "cell_type": "code",
   "execution_count": 87,
   "id": "dedicated-paste",
   "metadata": {},
   "outputs": [],
   "source": [
    "angles = np.array([0,30,60,120,150,180,360])"
   ]
  },
  {
   "cell_type": "code",
   "execution_count": 88,
   "id": "touched-gazette",
   "metadata": {},
   "outputs": [],
   "source": [
    "#Example 1 Sine\n",
    "np.sin(angles * pi/180) #in radians"
   ]
  },
  {
   "cell_type": "code",
   "execution_count": null,
   "id": "numeric-intervention",
   "metadata": {},
   "outputs": [],
   "source": []
  },
  {
   "cell_type": "code",
   "execution_count": 90,
   "id": "atlantic-inspection",
   "metadata": {},
   "outputs": [
    {
     "data": {
      "text/plain": [
       "array([ 1.       ,  0.8660254,  0.5      , -0.5      , -0.8660254,\n",
       "       -1.       ,  1.       ])"
      ]
     },
     "execution_count": 90,
     "metadata": {},
     "output_type": "execute_result"
    }
   ],
   "source": [
    "#Example 2 Cosine\n",
    "np.cos(angles* pi/180)"
   ]
  },
  {
   "cell_type": "code",
   "execution_count": 91,
   "id": "utility-issue",
   "metadata": {},
   "outputs": [
    {
     "data": {
      "text/plain": [
       "array([ 0.00000000e+00,  5.77350269e-01,  1.73205081e+00, -1.73205081e+00,\n",
       "       -5.77350269e-01, -1.22464680e-16, -2.44929360e-16])"
      ]
     },
     "execution_count": 91,
     "metadata": {},
     "output_type": "execute_result"
    }
   ],
   "source": [
    "#Example 3 Tangent\n",
    "np.tan(angles*pi/180)"
   ]
  },
  {
   "cell_type": "code",
   "execution_count": 92,
   "id": "desperate-amber",
   "metadata": {
    "scrolled": true
   },
   "outputs": [
    {
     "ename": "TypeError",
     "evalue": "'numpy.ufunc' object is not subscriptable",
     "output_type": "error",
     "traceback": [
      "\u001b[1;31m---------------------------------------------------------------------------\u001b[0m",
      "\u001b[1;31mTypeError\u001b[0m                                 Traceback (most recent call last)",
      "\u001b[1;32m<ipython-input-92-4768031efc58>\u001b[0m in \u001b[0;36m<module>\u001b[1;34m\u001b[0m\n\u001b[0;32m      1\u001b[0m \u001b[1;31m#example 4 Breaking: When sqaure bracket is use for trig functions it report an error\u001b[0m\u001b[1;33m\u001b[0m\u001b[1;33m\u001b[0m\u001b[1;33m\u001b[0m\u001b[0m\n\u001b[1;32m----> 2\u001b[1;33m \u001b[0mnp\u001b[0m\u001b[1;33m.\u001b[0m\u001b[0msin\u001b[0m\u001b[1;33m[\u001b[0m\u001b[0mangles\u001b[0m\u001b[1;33m*\u001b[0m\u001b[0mpi\u001b[0m\u001b[1;33m/\u001b[0m\u001b[1;36m180\u001b[0m\u001b[1;33m]\u001b[0m\u001b[1;33m\u001b[0m\u001b[1;33m\u001b[0m\u001b[0m\n\u001b[0m",
      "\u001b[1;31mTypeError\u001b[0m: 'numpy.ufunc' object is not subscriptable"
     ]
    }
   ],
   "source": [
    "#example 4 Breaking: When sqaure bracket is use for trig functions it report an error\n",
    "np.sin[angles*pi/180]"
   ]
  },
  {
   "cell_type": "markdown",
   "id": "destroyed-adaptation",
   "metadata": {},
   "source": [
    "**Function 2: Round functions**\n",
    "This functions is use to round up numbers and decimals to suit your output. At default is 0 and if its negative, it round to the left of the number"
   ]
  },
  {
   "cell_type": "code",
   "execution_count": 94,
   "id": "protective-puppy",
   "metadata": {},
   "outputs": [
    {
     "name": "stdout",
     "output_type": "stream",
     "text": [
      "Before rounding up\n",
      "[ 23.168   2.95  150.      9.567]\n",
      "After rounded to 0\n",
      "[ 23.   3. 150.  10.]\n"
     ]
    }
   ],
   "source": [
    "#Example 1 at default\n",
    "unrounded = np.array([23.168, 2.950, 150, 9.567])\n",
    "print(\"Before rounding up\")\n",
    "print(unrounded)\n",
    "print(\"After rounded to 0\")\n",
    "print(np.around(unrounded))"
   ]
  },
  {
   "cell_type": "code",
   "execution_count": 96,
   "id": "moved-monaco",
   "metadata": {},
   "outputs": [
    {
     "data": {
      "text/plain": [
       "array([ 23.17,   2.95, 150.  ,   9.57])"
      ]
     },
     "execution_count": 96,
     "metadata": {},
     "output_type": "execute_result"
    }
   ],
   "source": [
    "#Example 2: At 2 decimal\n",
    "np.around(unrounded, decimals = 2)"
   ]
  },
  {
   "cell_type": "code",
   "execution_count": 100,
   "id": "synthetic-maine",
   "metadata": {},
   "outputs": [
    {
     "data": {
      "text/plain": [
       "array([ 20.,   0., 150.,  10.])"
      ]
     },
     "execution_count": 100,
     "metadata": {},
     "output_type": "execute_result"
    }
   ],
   "source": [
    "#Example 3: At Negative decimal\n",
    "np.around(unrounded, decimals = -1)"
   ]
  },
  {
   "cell_type": "code",
   "execution_count": 101,
   "id": "stupid-conservation",
   "metadata": {},
   "outputs": [
    {
     "ename": "TypeError",
     "evalue": "_around_dispatcher() got an unexpected keyword argument 'decimal'",
     "output_type": "error",
     "traceback": [
      "\u001b[1;31m---------------------------------------------------------------------------\u001b[0m",
      "\u001b[1;31mTypeError\u001b[0m                                 Traceback (most recent call last)",
      "\u001b[1;32m<ipython-input-101-18e1cc1f7b5d>\u001b[0m in \u001b[0;36m<module>\u001b[1;34m\u001b[0m\n\u001b[0;32m      1\u001b[0m \u001b[1;31m#Example 4: Break. Be mindful of the spelling of decimal as the aurgument of decimal\u001b[0m\u001b[1;33m\u001b[0m\u001b[1;33m\u001b[0m\u001b[1;33m\u001b[0m\u001b[0m\n\u001b[0;32m      2\u001b[0m \u001b[1;31m#        must appear in plural and not square bracket\u001b[0m\u001b[1;33m\u001b[0m\u001b[1;33m\u001b[0m\u001b[1;33m\u001b[0m\u001b[0m\n\u001b[1;32m----> 3\u001b[1;33m \u001b[0mnp\u001b[0m\u001b[1;33m.\u001b[0m\u001b[0maround\u001b[0m\u001b[1;33m(\u001b[0m\u001b[0munrounded\u001b[0m\u001b[1;33m,\u001b[0m \u001b[0mdecimal\u001b[0m\u001b[1;33m=\u001b[0m \u001b[1;33m-\u001b[0m\u001b[1;36m1\u001b[0m\u001b[1;33m)\u001b[0m\u001b[1;33m\u001b[0m\u001b[1;33m\u001b[0m\u001b[0m\n\u001b[0m",
      "\u001b[1;32m<__array_function__ internals>\u001b[0m in \u001b[0;36maround\u001b[1;34m(*args, **kwargs)\u001b[0m\n",
      "\u001b[1;31mTypeError\u001b[0m: _around_dispatcher() got an unexpected keyword argument 'decimal'"
     ]
    }
   ],
   "source": [
    "#Example 4: Break. Be mindful of the spelling of decimal as the aurgument of decimal \n",
    "#        must appear in plural and not square bracket\n",
    "np.around(unrounded, decimal= -1)"
   ]
  },
  {
   "cell_type": "markdown",
   "id": "architectural-rwanda",
   "metadata": {},
   "source": [
    "##### Function 3: Stacking Function.\n",
    "*** The Stacking is use to stack together two or more arrays. Its another way of concetenating arrays. We have the hstack() and column_stack() which stacking on column axis. The vstack() and row_stack() which stacking on the row axis. vstack is an alias for row_stack which make them the same "
   ]
  },
  {
   "cell_type": "code",
   "execution_count": 105,
   "id": "expected-creativity",
   "metadata": {},
   "outputs": [],
   "source": [
    "a = np.array([[2,6], [10,3], [9,0]])"
   ]
  },
  {
   "cell_type": "code",
   "execution_count": 104,
   "id": "comparative-language",
   "metadata": {},
   "outputs": [],
   "source": [
    "b = np.array([[5,7],[4,7], [1,8]])"
   ]
  },
  {
   "cell_type": "code",
   "execution_count": 106,
   "id": "rubber-prisoner",
   "metadata": {},
   "outputs": [
    {
     "data": {
      "text/plain": [
       "array([[ 2,  6,  5,  7],\n",
       "       [10,  3,  4,  7],\n",
       "       [ 9,  0,  1,  8]])"
      ]
     },
     "execution_count": 106,
     "metadata": {},
     "output_type": "execute_result"
    }
   ],
   "source": [
    "#Example 1. horizontal stack\n",
    "np.hstack((a,b))"
   ]
  },
  {
   "cell_type": "code",
   "execution_count": 107,
   "id": "confirmed-facing",
   "metadata": {},
   "outputs": [
    {
     "data": {
      "text/plain": [
       "array([[ 2,  6,  5,  7],\n",
       "       [10,  3,  4,  7],\n",
       "       [ 9,  0,  1,  8]])"
      ]
     },
     "execution_count": 107,
     "metadata": {},
     "output_type": "execute_result"
    }
   ],
   "source": [
    "#Example 2. column stack\n",
    "\n",
    "np.column_stack((a,b))"
   ]
  },
  {
   "cell_type": "code",
   "execution_count": 108,
   "id": "nuclear-matrix",
   "metadata": {},
   "outputs": [
    {
     "data": {
      "text/plain": [
       "array([[ 2,  6],\n",
       "       [10,  3],\n",
       "       [ 9,  0],\n",
       "       [ 5,  7],\n",
       "       [ 4,  7],\n",
       "       [ 1,  8]])"
      ]
     },
     "execution_count": 108,
     "metadata": {},
     "output_type": "execute_result"
    }
   ],
   "source": [
    "#Example 3. vertical stack\n",
    "np.vstack((a,b))"
   ]
  },
  {
   "cell_type": "code",
   "execution_count": 109,
   "id": "retained-salem",
   "metadata": {},
   "outputs": [
    {
     "data": {
      "text/plain": [
       "array([[ 2,  6],\n",
       "       [10,  3],\n",
       "       [ 9,  0],\n",
       "       [ 5,  7],\n",
       "       [ 4,  7],\n",
       "       [ 1,  8]])"
      ]
     },
     "execution_count": 109,
     "metadata": {},
     "output_type": "execute_result"
    }
   ],
   "source": [
    "#Example 3. row stack\n",
    "np.row_stack((a,b))"
   ]
  },
  {
   "cell_type": "code",
   "execution_count": 114,
   "id": "thick-sullivan",
   "metadata": {},
   "outputs": [
    {
     "ename": "ValueError",
     "evalue": "all the input array dimensions for the concatenation axis must match exactly, but along dimension 0, the array at index 0 has size 3 and the array at index 1 has size 2",
     "output_type": "error",
     "traceback": [
      "\u001b[1;31m---------------------------------------------------------------------------\u001b[0m",
      "\u001b[1;31mValueError\u001b[0m                                Traceback (most recent call last)",
      "\u001b[1;32m<ipython-input-114-5a572149ea46>\u001b[0m in \u001b[0;36m<module>\u001b[1;34m\u001b[0m\n\u001b[0;32m      1\u001b[0m \u001b[1;31m#Example 4. Breaking: To stack the array, they must have the same dimension\u001b[0m\u001b[1;33m\u001b[0m\u001b[1;33m\u001b[0m\u001b[1;33m\u001b[0m\u001b[0m\n\u001b[0;32m      2\u001b[0m \u001b[0mc\u001b[0m \u001b[1;33m=\u001b[0m  \u001b[0mnp\u001b[0m\u001b[1;33m.\u001b[0m\u001b[0marray\u001b[0m\u001b[1;33m(\u001b[0m\u001b[1;33m[\u001b[0m\u001b[1;33m[\u001b[0m\u001b[1;36m2\u001b[0m\u001b[1;33m,\u001b[0m\u001b[1;36m3\u001b[0m\u001b[1;33m]\u001b[0m\u001b[1;33m,\u001b[0m\u001b[1;33m[\u001b[0m\u001b[1;36m4\u001b[0m\u001b[1;33m,\u001b[0m\u001b[1;36m6\u001b[0m\u001b[1;33m]\u001b[0m\u001b[1;33m]\u001b[0m\u001b[1;33m)\u001b[0m\u001b[1;33m\u001b[0m\u001b[1;33m\u001b[0m\u001b[0m\n\u001b[1;32m----> 3\u001b[1;33m \u001b[0mnp\u001b[0m\u001b[1;33m.\u001b[0m\u001b[0mhstack\u001b[0m\u001b[1;33m(\u001b[0m\u001b[1;33m(\u001b[0m\u001b[0ma\u001b[0m\u001b[1;33m,\u001b[0m\u001b[0mc\u001b[0m\u001b[1;33m)\u001b[0m\u001b[1;33m)\u001b[0m\u001b[1;33m\u001b[0m\u001b[1;33m\u001b[0m\u001b[0m\n\u001b[0m",
      "\u001b[1;32m<__array_function__ internals>\u001b[0m in \u001b[0;36mhstack\u001b[1;34m(*args, **kwargs)\u001b[0m\n",
      "\u001b[1;32mc:\\users\\lord mufi\\appdata\\local\\programs\\python\\python37\\lib\\site-packages\\numpy\\core\\shape_base.py\u001b[0m in \u001b[0;36mhstack\u001b[1;34m(tup)\u001b[0m\n\u001b[0;32m    344\u001b[0m         \u001b[1;32mreturn\u001b[0m \u001b[0m_nx\u001b[0m\u001b[1;33m.\u001b[0m\u001b[0mconcatenate\u001b[0m\u001b[1;33m(\u001b[0m\u001b[0marrs\u001b[0m\u001b[1;33m,\u001b[0m \u001b[1;36m0\u001b[0m\u001b[1;33m)\u001b[0m\u001b[1;33m\u001b[0m\u001b[1;33m\u001b[0m\u001b[0m\n\u001b[0;32m    345\u001b[0m     \u001b[1;32melse\u001b[0m\u001b[1;33m:\u001b[0m\u001b[1;33m\u001b[0m\u001b[1;33m\u001b[0m\u001b[0m\n\u001b[1;32m--> 346\u001b[1;33m         \u001b[1;32mreturn\u001b[0m \u001b[0m_nx\u001b[0m\u001b[1;33m.\u001b[0m\u001b[0mconcatenate\u001b[0m\u001b[1;33m(\u001b[0m\u001b[0marrs\u001b[0m\u001b[1;33m,\u001b[0m \u001b[1;36m1\u001b[0m\u001b[1;33m)\u001b[0m\u001b[1;33m\u001b[0m\u001b[1;33m\u001b[0m\u001b[0m\n\u001b[0m\u001b[0;32m    347\u001b[0m \u001b[1;33m\u001b[0m\u001b[0m\n\u001b[0;32m    348\u001b[0m \u001b[1;33m\u001b[0m\u001b[0m\n",
      "\u001b[1;32m<__array_function__ internals>\u001b[0m in \u001b[0;36mconcatenate\u001b[1;34m(*args, **kwargs)\u001b[0m\n",
      "\u001b[1;31mValueError\u001b[0m: all the input array dimensions for the concatenation axis must match exactly, but along dimension 0, the array at index 0 has size 3 and the array at index 1 has size 2"
     ]
    }
   ],
   "source": [
    "#Example 4. Breaking: To stack the array, they must have the same dimension\n",
    "c =  np.array([[2,3],[4,6]])\n",
    "np.hstack((a,c))"
   ]
  },
  {
   "cell_type": "markdown",
   "id": "unlike-friendship",
   "metadata": {},
   "source": [
    "**Function 4: Statistics Function**\n",
    "Numpy is also used to solve statistic problem such as minimum, maximum, variance, standard deviation and so on. "
   ]
  },
  {
   "cell_type": "code",
   "execution_count": 5,
   "id": "liable-separate",
   "metadata": {},
   "outputs": [
    {
     "name": "stdout",
     "output_type": "stream",
     "text": [
      "minimum without axis\n",
      "1\n",
      "minimum at axis 0\n",
      "[6 4 1]\n",
      "minimum at axis 1\n",
      "[4 1 2]\n"
     ]
    }
   ],
   "source": [
    "#Example 1: amin() function is use to find the minimum value at a specific axis\n",
    "\n",
    "stat_value = np.array([[12, 4, 5],\n",
    "                       [6, 9, 1],\n",
    "                       [10, 7, 2]])\n",
    "print(\"minimum without axis\")\n",
    "print(np.amin(stat_value))\n",
    "\n",
    "print(\"minimum at axis 0\")\n",
    "print(np.amin(stat_value, axis = 0))\n",
    "\n",
    "print(\"minimum at axis 1\")\n",
    "print(np.amin(stat_value, axis = 1))\n",
    "\n",
    "\n"
   ]
  },
  {
   "cell_type": "code",
   "execution_count": null,
   "id": "informal-polish",
   "metadata": {},
   "outputs": [],
   "source": []
  },
  {
   "cell_type": "code",
   "execution_count": 7,
   "id": "useful-cargo",
   "metadata": {},
   "outputs": [
    {
     "name": "stdout",
     "output_type": "stream",
     "text": [
      "maximum without axis\n",
      "12\n",
      "maximum at axis 0\n",
      "[12  9  5]\n",
      "maximum at axis 1\n",
      "[12  9 10]\n"
     ]
    }
   ],
   "source": [
    "#Example 2: amax() function gives the maximum value at a given axis. At defualt is gives \n",
    "#the maximum of the total elements\n",
    "print(\"maximum without axis i.e(of the total elements)\")\n",
    "print(np.amax(stat_value))\n",
    "\n",
    "print(\"maximum at axis 0 i.e(of each row)\")\n",
    "print(np.amax(stat_value, axis = 0))\n",
    "\n",
    "print(\"maximum at axis 1 i.e(of each column)\")\n",
    "print(np.amax(stat_value, axis = 1))\n",
    "\n"
   ]
  },
  {
   "cell_type": "code",
   "execution_count": 8,
   "id": "lovely-motivation",
   "metadata": {},
   "outputs": [
    {
     "ename": "AxisError",
     "evalue": "axis 2 is out of bounds for array of dimension 2",
     "output_type": "error",
     "traceback": [
      "\u001b[1;31m---------------------------------------------------------------------------\u001b[0m",
      "\u001b[1;31mAxisError\u001b[0m                                 Traceback (most recent call last)",
      "\u001b[1;32m<ipython-input-8-b60d9e403cf6>\u001b[0m in \u001b[0;36m<module>\u001b[1;34m\u001b[0m\n\u001b[0;32m      1\u001b[0m \u001b[1;31m#Breaking of amin() and amax() occur when the specify axis = array's dimension.\u001b[0m\u001b[1;33m\u001b[0m\u001b[1;33m\u001b[0m\u001b[1;33m\u001b[0m\u001b[0m\n\u001b[0;32m      2\u001b[0m \u001b[1;31m#Forinstance our array is 2D and therefore the axis cannot be >=2\u001b[0m\u001b[1;33m\u001b[0m\u001b[1;33m\u001b[0m\u001b[1;33m\u001b[0m\u001b[0m\n\u001b[1;32m----> 3\u001b[1;33m \u001b[0mprint\u001b[0m\u001b[1;33m(\u001b[0m\u001b[0mnp\u001b[0m\u001b[1;33m.\u001b[0m\u001b[0mamin\u001b[0m\u001b[1;33m(\u001b[0m\u001b[0mstat_value\u001b[0m\u001b[1;33m,\u001b[0m \u001b[0maxis\u001b[0m\u001b[1;33m=\u001b[0m\u001b[1;36m2\u001b[0m\u001b[1;33m)\u001b[0m\u001b[1;33m)\u001b[0m\u001b[1;33m\u001b[0m\u001b[1;33m\u001b[0m\u001b[0m\n\u001b[0m\u001b[0;32m      4\u001b[0m \u001b[1;33m\u001b[0m\u001b[0m\n\u001b[0;32m      5\u001b[0m \u001b[0mprint\u001b[0m\u001b[1;33m(\u001b[0m\u001b[0mnp\u001b[0m\u001b[1;33m.\u001b[0m\u001b[0mamax\u001b[0m\u001b[1;33m(\u001b[0m\u001b[0mstat_value\u001b[0m\u001b[1;33m,\u001b[0m \u001b[0maxis\u001b[0m \u001b[1;33m=\u001b[0m \u001b[1;36m2\u001b[0m\u001b[1;33m)\u001b[0m\u001b[1;33m)\u001b[0m\u001b[1;33m\u001b[0m\u001b[1;33m\u001b[0m\u001b[0m\n",
      "\u001b[1;32m<__array_function__ internals>\u001b[0m in \u001b[0;36mamin\u001b[1;34m(*args, **kwargs)\u001b[0m\n",
      "\u001b[1;32mc:\\users\\lord mufi\\appdata\\local\\programs\\python\\python37\\lib\\site-packages\\numpy\\core\\fromnumeric.py\u001b[0m in \u001b[0;36mamin\u001b[1;34m(a, axis, out, keepdims, initial, where)\u001b[0m\n\u001b[0;32m   2857\u001b[0m     \"\"\"\n\u001b[0;32m   2858\u001b[0m     return _wrapreduction(a, np.minimum, 'min', axis, None, out,\n\u001b[1;32m-> 2859\u001b[1;33m                           keepdims=keepdims, initial=initial, where=where)\n\u001b[0m\u001b[0;32m   2860\u001b[0m \u001b[1;33m\u001b[0m\u001b[0m\n\u001b[0;32m   2861\u001b[0m \u001b[1;33m\u001b[0m\u001b[0m\n",
      "\u001b[1;32mc:\\users\\lord mufi\\appdata\\local\\programs\\python\\python37\\lib\\site-packages\\numpy\\core\\fromnumeric.py\u001b[0m in \u001b[0;36m_wrapreduction\u001b[1;34m(obj, ufunc, method, axis, dtype, out, **kwargs)\u001b[0m\n\u001b[0;32m     85\u001b[0m                 \u001b[1;32mreturn\u001b[0m \u001b[0mreduction\u001b[0m\u001b[1;33m(\u001b[0m\u001b[0maxis\u001b[0m\u001b[1;33m=\u001b[0m\u001b[0maxis\u001b[0m\u001b[1;33m,\u001b[0m \u001b[0mout\u001b[0m\u001b[1;33m=\u001b[0m\u001b[0mout\u001b[0m\u001b[1;33m,\u001b[0m \u001b[1;33m**\u001b[0m\u001b[0mpasskwargs\u001b[0m\u001b[1;33m)\u001b[0m\u001b[1;33m\u001b[0m\u001b[1;33m\u001b[0m\u001b[0m\n\u001b[0;32m     86\u001b[0m \u001b[1;33m\u001b[0m\u001b[0m\n\u001b[1;32m---> 87\u001b[1;33m     \u001b[1;32mreturn\u001b[0m \u001b[0mufunc\u001b[0m\u001b[1;33m.\u001b[0m\u001b[0mreduce\u001b[0m\u001b[1;33m(\u001b[0m\u001b[0mobj\u001b[0m\u001b[1;33m,\u001b[0m \u001b[0maxis\u001b[0m\u001b[1;33m,\u001b[0m \u001b[0mdtype\u001b[0m\u001b[1;33m,\u001b[0m \u001b[0mout\u001b[0m\u001b[1;33m,\u001b[0m \u001b[1;33m**\u001b[0m\u001b[0mpasskwargs\u001b[0m\u001b[1;33m)\u001b[0m\u001b[1;33m\u001b[0m\u001b[1;33m\u001b[0m\u001b[0m\n\u001b[0m\u001b[0;32m     88\u001b[0m \u001b[1;33m\u001b[0m\u001b[0m\n\u001b[0;32m     89\u001b[0m \u001b[1;33m\u001b[0m\u001b[0m\n",
      "\u001b[1;31mAxisError\u001b[0m: axis 2 is out of bounds for array of dimension 2"
     ]
    }
   ],
   "source": [
    "#Breaking of amin() and amax() occur when the specify axis = array's dimension. \n",
    "#Forinstance our array is 2D and therefore the axis cannot be >=2\n",
    "print(np.amin(stat_value, axis=2))\n",
    "\n",
    "print(np.amax(stat_value, axis = 2))\n",
    "\n",
    "\n"
   ]
  },
  {
   "cell_type": "code",
   "execution_count": 13,
   "id": "every-contamination",
   "metadata": {},
   "outputs": [
    {
     "name": "stdout",
     "output_type": "stream",
     "text": [
      "original array \n",
      " [[12  4  5]\n",
      " [ 6  9  1]\n",
      " [10  7  2]]\n",
      "50% of the whole element \n",
      " 6.0\n",
      "\n",
      "\n",
      "50% at axis = 0 i.e each row elements \n",
      " [10.  7.  2.]\n",
      "\n",
      "\n",
      "50% at axis = 1 i.e each column elements \n",
      " [5. 6. 7.]\n"
     ]
    }
   ],
   "source": [
    "#Example 3: Percentile() function use to determine the value of a given data on a given percent. it must be compute within 0-100\n",
    "print(\"original array \\n\", stat_value)\n",
    "print(\"50% of the whole element \\n\", np.percentile(stat_value,50))\n",
    "print('\\n')\n",
    "print(\"50% at axis = 0 i.e each row elements \\n\", np.percentile(stat_value,50, axis = 0))\n",
    "print('\\n')\n",
    "print(\"50% at axis = 1 i.e each column elements \\n\", np.percentile(stat_value,50, axis = 1))\n",
    "\n"
   ]
  },
  {
   "cell_type": "code",
   "execution_count": 14,
   "id": "systematic-helena",
   "metadata": {},
   "outputs": [
    {
     "ename": "ValueError",
     "evalue": "Percentiles must be in the range [0, 100]",
     "output_type": "error",
     "traceback": [
      "\u001b[1;31m---------------------------------------------------------------------------\u001b[0m",
      "\u001b[1;31mValueError\u001b[0m                                Traceback (most recent call last)",
      "\u001b[1;32m<ipython-input-14-f1c177baafbc>\u001b[0m in \u001b[0;36m<module>\u001b[1;34m\u001b[0m\n\u001b[0;32m      1\u001b[0m \u001b[1;31m#Breaking Percentile return error the specify percentile is above 100\u001b[0m\u001b[1;33m\u001b[0m\u001b[1;33m\u001b[0m\u001b[1;33m\u001b[0m\u001b[0m\n\u001b[0;32m      2\u001b[0m \u001b[1;33m\u001b[0m\u001b[0m\n\u001b[1;32m----> 3\u001b[1;33m \u001b[0mnp\u001b[0m\u001b[1;33m.\u001b[0m\u001b[0mpercentile\u001b[0m\u001b[1;33m(\u001b[0m\u001b[0mstat_value\u001b[0m\u001b[1;33m,\u001b[0m\u001b[1;36m120\u001b[0m\u001b[1;33m,\u001b[0m \u001b[0maxis\u001b[0m \u001b[1;33m=\u001b[0m \u001b[1;36m0\u001b[0m\u001b[1;33m)\u001b[0m\u001b[1;33m\u001b[0m\u001b[1;33m\u001b[0m\u001b[0m\n\u001b[0m",
      "\u001b[1;32m<__array_function__ internals>\u001b[0m in \u001b[0;36mpercentile\u001b[1;34m(*args, **kwargs)\u001b[0m\n",
      "\u001b[1;32mc:\\users\\lord mufi\\appdata\\local\\programs\\python\\python37\\lib\\site-packages\\numpy\\lib\\function_base.py\u001b[0m in \u001b[0;36mpercentile\u001b[1;34m(a, q, axis, out, overwrite_input, interpolation, keepdims)\u001b[0m\n\u001b[0;32m   3815\u001b[0m     \u001b[0mq\u001b[0m \u001b[1;33m=\u001b[0m \u001b[0masanyarray\u001b[0m\u001b[1;33m(\u001b[0m\u001b[0mq\u001b[0m\u001b[1;33m)\u001b[0m  \u001b[1;31m# undo any decay that the ufunc performed (see gh-13105)\u001b[0m\u001b[1;33m\u001b[0m\u001b[1;33m\u001b[0m\u001b[0m\n\u001b[0;32m   3816\u001b[0m     \u001b[1;32mif\u001b[0m \u001b[1;32mnot\u001b[0m \u001b[0m_quantile_is_valid\u001b[0m\u001b[1;33m(\u001b[0m\u001b[0mq\u001b[0m\u001b[1;33m)\u001b[0m\u001b[1;33m:\u001b[0m\u001b[1;33m\u001b[0m\u001b[1;33m\u001b[0m\u001b[0m\n\u001b[1;32m-> 3817\u001b[1;33m         \u001b[1;32mraise\u001b[0m \u001b[0mValueError\u001b[0m\u001b[1;33m(\u001b[0m\u001b[1;34m\"Percentiles must be in the range [0, 100]\"\u001b[0m\u001b[1;33m)\u001b[0m\u001b[1;33m\u001b[0m\u001b[1;33m\u001b[0m\u001b[0m\n\u001b[0m\u001b[0;32m   3818\u001b[0m     return _quantile_unchecked(\n\u001b[0;32m   3819\u001b[0m         a, q, axis, out, overwrite_input, interpolation, keepdims)\n",
      "\u001b[1;31mValueError\u001b[0m: Percentiles must be in the range [0, 100]"
     ]
    }
   ],
   "source": [
    "#Breaking Percentile return error when the range is above 100\n",
    "\n",
    "np.percentile(stat_value,120, axis = 0)\n"
   ]
  },
  {
   "cell_type": "code",
   "execution_count": 15,
   "id": "final-compatibility",
   "metadata": {},
   "outputs": [
    {
     "name": "stdout",
     "output_type": "stream",
     "text": [
      "standard deviation at axis = 0 i.e each row elements \n",
      " [2.49443826 2.05480467 1.69967317]\n",
      "\n",
      "\n",
      "variance at axis =  0 i.e each row elements \n",
      " [6.22222222 4.22222222 2.88888889]\n"
     ]
    }
   ],
   "source": [
    "#Example 3: Standard deviation std() is an square root of the average of square deviations from mean\n",
    "# and variance is the average of square deviation. \n",
    "print(\"standard deviation at axis = 0 i.e each row elements \\n\", np.std(stat_value, axis = 0))\n",
    "print('\\n')\n",
    "print(\"variance at axis =  0 i.e each row elements \\n\", np.var(stat_value, axis = 0))\n"
   ]
  },
  {
   "cell_type": "markdown",
   "id": "national-basis",
   "metadata": {},
   "source": [
    "##### Mean(), Median(), decile(), average() and so many statistical functions can be calculated using numpy."
   ]
  },
  {
   "cell_type": "markdown",
   "id": "impaired-train",
   "metadata": {},
   "source": [
    "**Function 5: Linear Algebra & Matrix Module**\n",
    "NumPy package contains a Matrix library numpy.matlib. This module has functions that return matrices instead of ndarray objects. It is import from numpy library. It functions and operations similar to ndarray just it returns matrices instead of ndarray objects and the dimension of matrix is always 2D whereas ndarrays is n-dimentions\n",
    "functions such as np.matlib.identity(), np.matlib.empty(), np.matlib.ones(), np.matlib.zeros() and many more can be found in numpy matrix library"
   ]
  },
  {
   "cell_type": "code",
   "execution_count": 40,
   "id": "british-rebel",
   "metadata": {},
   "outputs": [],
   "source": [
    "import numpy.matlib as mat"
   ]
  },
  {
   "cell_type": "code",
   "execution_count": 76,
   "id": "seventh-desperate",
   "metadata": {},
   "outputs": [],
   "source": [
    "a = [[1, 4], [5, 8]]"
   ]
  },
  {
   "cell_type": "code",
   "execution_count": 87,
   "id": "cardiovascular-tuition",
   "metadata": {},
   "outputs": [],
   "source": [
    "a = np.array(a)"
   ]
  },
  {
   "cell_type": "code",
   "execution_count": 47,
   "id": "protecting-honduras",
   "metadata": {},
   "outputs": [
    {
     "data": {
      "text/plain": [
       "matrix([[0., 1., 0., 0.],\n",
       "        [0., 0., 1., 0.],\n",
       "        [0., 0., 0., 1.]])"
      ]
     },
     "execution_count": 47,
     "metadata": {},
     "output_type": "execute_result"
    }
   ],
   "source": [
    "#Example 1: matlib.eye(n, M, k, dtpye). n = column, M = rows, k = index\n",
    "\n",
    "mat.eye(n=3, M=4, k=1)"
   ]
  },
  {
   "cell_type": "code",
   "execution_count": 48,
   "id": "metropolitan-tension",
   "metadata": {},
   "outputs": [
    {
     "ename": "TypeError",
     "evalue": "eye() got an unexpected keyword argument 'N'",
     "output_type": "error",
     "traceback": [
      "\u001b[1;31m---------------------------------------------------------------------------\u001b[0m",
      "\u001b[1;31mTypeError\u001b[0m                                 Traceback (most recent call last)",
      "\u001b[1;32m<ipython-input-48-21f60cca28e3>\u001b[0m in \u001b[0;36m<module>\u001b[1;34m\u001b[0m\n\u001b[0;32m      1\u001b[0m \u001b[1;31m#Breaking: the letter 'n and k' must be lowercase while letter 'M' must be uppercase\u001b[0m\u001b[1;33m\u001b[0m\u001b[1;33m\u001b[0m\u001b[1;33m\u001b[0m\u001b[0m\n\u001b[0;32m      2\u001b[0m \u001b[1;33m\u001b[0m\u001b[0m\n\u001b[1;32m----> 3\u001b[1;33m \u001b[0mmat\u001b[0m\u001b[1;33m.\u001b[0m\u001b[0meye\u001b[0m\u001b[1;33m(\u001b[0m\u001b[0mN\u001b[0m\u001b[1;33m=\u001b[0m\u001b[1;36m3\u001b[0m\u001b[1;33m,\u001b[0m \u001b[0mM\u001b[0m\u001b[1;33m=\u001b[0m\u001b[1;36m4\u001b[0m\u001b[1;33m,\u001b[0m \u001b[0mk\u001b[0m\u001b[1;33m=\u001b[0m\u001b[1;36m1\u001b[0m\u001b[1;33m)\u001b[0m \u001b[1;31m#'N' changed to uppercase\u001b[0m\u001b[1;33m\u001b[0m\u001b[1;33m\u001b[0m\u001b[0m\n\u001b[0m",
      "\u001b[1;31mTypeError\u001b[0m: eye() got an unexpected keyword argument 'N'"
     ]
    }
   ],
   "source": [
    "#Breaking: the letter 'n and k' must be lowercase while letter 'M' must be uppercase\n",
    "\n",
    "mat.eye(N=3, M=4, k=1) #'N' changed to uppercase"
   ]
  },
  {
   "cell_type": "code",
   "execution_count": 86,
   "id": "removable-station",
   "metadata": {},
   "outputs": [],
   "source": [
    "\n",
    "b = [[2, 1], [10, 9]]\n",
    "b = np.array(b)"
   ]
  },
  {
   "cell_type": "code",
   "execution_count": 88,
   "id": "persistent-macintosh",
   "metadata": {},
   "outputs": [
    {
     "name": "stdout",
     "output_type": "stream",
     "text": [
      "matrix dot product of matrices a and b\n",
      "[[42 37]\n",
      " [90 77]]\n",
      "\n",
      "\n",
      "vector dot product of matrix a and b\n"
     ]
    },
    {
     "data": {
      "text/plain": [
       "128"
      ]
     },
     "execution_count": 88,
     "metadata": {},
     "output_type": "execute_result"
    }
   ],
   "source": [
    "#Example 2: vector dot and matrix dot\n",
    "print(\"matrix dot product of matrices a and b\")\n",
    "print(mat.dot(a, b))\n",
    "print('\\n')\n",
    "print(\"vector dot product of matrix a and b\")\n",
    "np.vdot(a, b)\n"
   ]
  },
  {
   "cell_type": "code",
   "execution_count": 67,
   "id": "conservative-child",
   "metadata": {},
   "outputs": [
    {
     "data": {
      "text/plain": [
       "-168.0000000000001"
      ]
     },
     "execution_count": 67,
     "metadata": {},
     "output_type": "execute_result"
    }
   ],
   "source": [
    "#Example 3: Determinant function is determine using the np.linalg.det() function\n",
    "np.linalg.det([[3, 4, 5],[6, 4, 2],[9, 1, 7]])"
   ]
  },
  {
   "cell_type": "code",
   "execution_count": 89,
   "id": "commercial-astrology",
   "metadata": {},
   "outputs": [
    {
     "data": {
      "text/plain": [
       "array([[ 1.00595238,  0.27380952],\n",
       "       [ 0.57142857, -0.71428571],\n",
       "       [-0.66071429,  0.60714286]])"
      ]
     },
     "execution_count": 89,
     "metadata": {},
     "output_type": "execute_result"
    }
   ],
   "source": [
    "#Example 4: The numpy.linalg.solve() function gives the solution of linear equations \n",
    "#in the matrix form (Ax - B = 0)\n",
    "a = [[3, 4, 5],[6, 4, 2],[9, 1, 7]]\n",
    "b = [[2, 1],[7, 0],[5, 6]]\n",
    "np.linalg.solve(a, b)"
   ]
  },
  {
   "cell_type": "code",
   "execution_count": 73,
   "id": "seventh-arrangement",
   "metadata": {},
   "outputs": [
    {
     "ename": "ValueError",
     "evalue": "solve: Input operand 1 has a mismatch in its core dimension 0, with gufunc signature (m,m),(m,n)->(m,n) (size 2 is different from 3)",
     "output_type": "error",
     "traceback": [
      "\u001b[1;31m---------------------------------------------------------------------------\u001b[0m",
      "\u001b[1;31mValueError\u001b[0m                                Traceback (most recent call last)",
      "\u001b[1;32m<ipython-input-73-444ee70a5590>\u001b[0m in \u001b[0;36m<module>\u001b[1;34m\u001b[0m\n\u001b[0;32m      3\u001b[0m \u001b[0ma\u001b[0m \u001b[1;33m=\u001b[0m \u001b[1;33m[\u001b[0m\u001b[1;33m[\u001b[0m\u001b[1;36m3\u001b[0m\u001b[1;33m,\u001b[0m \u001b[1;36m4\u001b[0m\u001b[1;33m,\u001b[0m \u001b[1;36m5\u001b[0m\u001b[1;33m]\u001b[0m\u001b[1;33m,\u001b[0m\u001b[1;33m[\u001b[0m\u001b[1;36m6\u001b[0m\u001b[1;33m,\u001b[0m \u001b[1;36m4\u001b[0m\u001b[1;33m,\u001b[0m \u001b[1;36m2\u001b[0m\u001b[1;33m]\u001b[0m\u001b[1;33m,\u001b[0m\u001b[1;33m[\u001b[0m\u001b[1;36m9\u001b[0m\u001b[1;33m,\u001b[0m \u001b[1;36m1\u001b[0m\u001b[1;33m,\u001b[0m \u001b[1;36m7\u001b[0m\u001b[1;33m]\u001b[0m\u001b[1;33m]\u001b[0m\u001b[1;33m\u001b[0m\u001b[1;33m\u001b[0m\u001b[0m\n\u001b[0;32m      4\u001b[0m \u001b[0mb\u001b[0m \u001b[1;33m=\u001b[0m \u001b[1;33m[\u001b[0m\u001b[1;33m[\u001b[0m\u001b[1;36m2\u001b[0m\u001b[1;33m,\u001b[0m \u001b[1;36m1\u001b[0m\u001b[1;33m]\u001b[0m\u001b[1;33m,\u001b[0m\u001b[1;33m[\u001b[0m\u001b[1;36m7\u001b[0m\u001b[1;33m,\u001b[0m \u001b[1;36m0\u001b[0m\u001b[1;33m]\u001b[0m\u001b[1;33m]\u001b[0m\u001b[1;33m\u001b[0m\u001b[1;33m\u001b[0m\u001b[0m\n\u001b[1;32m----> 5\u001b[1;33m \u001b[0mnp\u001b[0m\u001b[1;33m.\u001b[0m\u001b[0mlinalg\u001b[0m\u001b[1;33m.\u001b[0m\u001b[0msolve\u001b[0m\u001b[1;33m(\u001b[0m\u001b[0ma\u001b[0m\u001b[1;33m,\u001b[0m \u001b[0mb\u001b[0m\u001b[1;33m)\u001b[0m\u001b[1;33m\u001b[0m\u001b[1;33m\u001b[0m\u001b[0m\n\u001b[0m",
      "\u001b[1;32m<__array_function__ internals>\u001b[0m in \u001b[0;36msolve\u001b[1;34m(*args, **kwargs)\u001b[0m\n",
      "\u001b[1;32mc:\\users\\lord mufi\\appdata\\local\\programs\\python\\python37\\lib\\site-packages\\numpy\\linalg\\linalg.py\u001b[0m in \u001b[0;36msolve\u001b[1;34m(a, b)\u001b[0m\n\u001b[0;32m    391\u001b[0m     \u001b[0msignature\u001b[0m \u001b[1;33m=\u001b[0m \u001b[1;34m'DD->D'\u001b[0m \u001b[1;32mif\u001b[0m \u001b[0misComplexType\u001b[0m\u001b[1;33m(\u001b[0m\u001b[0mt\u001b[0m\u001b[1;33m)\u001b[0m \u001b[1;32melse\u001b[0m \u001b[1;34m'dd->d'\u001b[0m\u001b[1;33m\u001b[0m\u001b[1;33m\u001b[0m\u001b[0m\n\u001b[0;32m    392\u001b[0m     \u001b[0mextobj\u001b[0m \u001b[1;33m=\u001b[0m \u001b[0mget_linalg_error_extobj\u001b[0m\u001b[1;33m(\u001b[0m\u001b[0m_raise_linalgerror_singular\u001b[0m\u001b[1;33m)\u001b[0m\u001b[1;33m\u001b[0m\u001b[1;33m\u001b[0m\u001b[0m\n\u001b[1;32m--> 393\u001b[1;33m     \u001b[0mr\u001b[0m \u001b[1;33m=\u001b[0m \u001b[0mgufunc\u001b[0m\u001b[1;33m(\u001b[0m\u001b[0ma\u001b[0m\u001b[1;33m,\u001b[0m \u001b[0mb\u001b[0m\u001b[1;33m,\u001b[0m \u001b[0msignature\u001b[0m\u001b[1;33m=\u001b[0m\u001b[0msignature\u001b[0m\u001b[1;33m,\u001b[0m \u001b[0mextobj\u001b[0m\u001b[1;33m=\u001b[0m\u001b[0mextobj\u001b[0m\u001b[1;33m)\u001b[0m\u001b[1;33m\u001b[0m\u001b[1;33m\u001b[0m\u001b[0m\n\u001b[0m\u001b[0;32m    394\u001b[0m \u001b[1;33m\u001b[0m\u001b[0m\n\u001b[0;32m    395\u001b[0m     \u001b[1;32mreturn\u001b[0m \u001b[0mwrap\u001b[0m\u001b[1;33m(\u001b[0m\u001b[0mr\u001b[0m\u001b[1;33m.\u001b[0m\u001b[0mastype\u001b[0m\u001b[1;33m(\u001b[0m\u001b[0mresult_t\u001b[0m\u001b[1;33m,\u001b[0m \u001b[0mcopy\u001b[0m\u001b[1;33m=\u001b[0m\u001b[1;32mFalse\u001b[0m\u001b[1;33m)\u001b[0m\u001b[1;33m)\u001b[0m\u001b[1;33m\u001b[0m\u001b[1;33m\u001b[0m\u001b[0m\n",
      "\u001b[1;31mValueError\u001b[0m: solve: Input operand 1 has a mismatch in its core dimension 0, with gufunc signature (m,m),(m,n)->(m,n) (size 2 is different from 3)"
     ]
    }
   ],
   "source": [
    "#Example 5. Breaking: The shape of the two matrices at axis 0 must be the same \n",
    "#i.e They must have the same number of rows\n",
    "a = [[3, 4, 5],[6, 4, 2],[9, 1, 7]]\n",
    "b = [[2, 1],[7, 0]]\n",
    "np.linalg.solve(a, b)"
   ]
  },
  {
   "cell_type": "markdown",
   "id": "global-restoration",
   "metadata": {},
   "source": [
    "### We have seen some lengthy and useful functions and module Numpy can provide. A lot of numerical analysis can be achieve using numpy as seen from above. \n",
    "\n",
    "***references\n",
    "> https://numpy.org/doc/stable/reference\n",
    ">https://www.tutorialspoint.com/numpy"
   ]
  }
 ],
 "metadata": {
  "kernelspec": {
   "display_name": "Python 3",
   "language": "python",
   "name": "python3"
  },
  "language_info": {
   "codemirror_mode": {
    "name": "ipython",
    "version": 3
   },
   "file_extension": ".py",
   "mimetype": "text/x-python",
   "name": "python",
   "nbconvert_exporter": "python",
   "pygments_lexer": "ipython3",
   "version": "3.7.5"
  }
 },
 "nbformat": 4,
 "nbformat_minor": 5
}
